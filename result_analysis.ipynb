{
 "cells": [
  {
   "cell_type": "code",
   "execution_count": 2,
   "metadata": {},
   "outputs": [
    {
     "name": "stderr",
     "output_type": "stream",
     "text": [
      "/homes/53/fpinto/llm_hallucinations/.venv/lib/python3.10/site-packages/tqdm/auto.py:21: TqdmWarning: IProgress not found. Please update jupyter and ipywidgets. See https://ipywidgets.readthedocs.io/en/stable/user_install.html\n",
      "  from .autonotebook import tqdm as notebook_tqdm\n"
     ]
    }
   ],
   "source": [
    "import json\n",
    "import pandas as pd\n",
    "import numpy as np\n",
    "import matplotlib.pyplot as plt\n",
    "import ast\n",
    "from constants import *\n",
    "from sft import *\n",
    "from utils import *\n",
    "from datasets import load_dataset, concatenate_datasets, Dataset, DatasetDict"
   ]
  },
  {
   "cell_type": "markdown",
   "metadata": {},
   "source": [
    "# Looking at results from previous runs"
   ]
  },
  {
   "cell_type": "code",
   "execution_count": 10,
   "metadata": {},
   "outputs": [],
   "source": [
    "def formatting_prompts_func(example, training=True):\n",
    "    instruction = BINARY_INSTRUCTION if args.sampling=='binary' else SYSTEM_INSTRUCTION\n",
    "    output_texts = []\n",
    "    for i in range(len(example[\"error_type\"])):\n",
    "        text = f\"{instruction}\\n ### Text1: {example['doc'][i]}\\n ### Text2: {example['summ'][i]}\\n ### Output: \"\n",
    "        if training:\n",
    "            text += (\n",
    "                f\"{LABEL_CONVERSIONS[example['error_type'][i]]} .\" + tokenizer.eos_token\n",
    "            )\n",
    "        output_texts.append(text)\n",
    "    return output_texts\n",
    "\n",
    "def extract(json_file_path):\n",
    "    with open(json_file_path, 'r') as f:\n",
    "        data = json.load(f)\n",
    "\n",
    "    # Extract predictions and labels into lists\n",
    "    true_labels = []\n",
    "    predicted_labels = []\n",
    "\n",
    "    for entry in data:\n",
    "        true_labels.append(entry['label'])\n",
    "        predicted_labels.append(entry['prediction'])\n",
    "\n",
    "    return true_labels, predicted_labels"
   ]
  },
  {
   "cell_type": "code",
   "execution_count": 15,
   "metadata": {},
   "outputs": [],
   "source": [
    "labels, preds = extract(\"fine_tuning safe copy/meta-llama/Meta-Llama-3-8B-Instruct/whole_dataset/summary.json\")"
   ]
  },
  {
   "cell_type": "code",
   "execution_count": 16,
   "metadata": {},
   "outputs": [
    {
     "data": {
      "text/plain": [
       "(1185, 1185)"
      ]
     },
     "execution_count": 16,
     "metadata": {},
     "output_type": "execute_result"
    }
   ],
   "source": [
    "dataset = load_dataset(\"Lislaam/AggreFact\", split=['validation[:]', 'test[:]'])\n",
    "dataset = concatenate_datasets([dataset[0], dataset[1]]) # Turn into one dataset to make new split\n",
    "dataset = reformat_data_split_labels(dataset, \"Lislaam/AggreFact\") # Get rid of non-standard error_type examples and split data\n",
    "\n",
    "dataset = oversampling(dataset)\n",
    "\n",
    "# Split the dataset into train and test sets (80% train, 20% test)\n",
    "train_test = dataset.train_test_split(test_size=0.2)\n",
    "\n",
    "# Further split the train set into train and validation sets (75% train, 25% validation of the original 80%)\n",
    "train_valid = train_test['train'].train_test_split(test_size=0.25)\n",
    "\n",
    "# Combine the splits into a DatasetDict\n",
    "dataset = DatasetDict({\n",
    "    'train': train_valid['train'],\n",
    "    'validation': train_valid['test'],\n",
    "    'test': train_test['test']\n",
    "})"
   ]
  },
  {
   "cell_type": "code",
   "execution_count": null,
   "metadata": {},
   "outputs": [],
   "source": [
    "dataset = dataset.map(\n",
    "    lambda x: {\"formatted_text\": formatting_prompts_func(x, False)},\n",
    "    batched=True,\n",
    ")\n",
    "dataloader = DataLoader(dataset['test'], batch_size=4)\n",
    "\n",
    "# Make predictions\n",
    "predictions = []\n",
    "for batch in tqdm(dataloader):"
   ]
  }
 ],
 "metadata": {
  "kernelspec": {
   "display_name": ".venv",
   "language": "python",
   "name": "python3"
  },
  "language_info": {
   "codemirror_mode": {
    "name": "ipython",
    "version": 3
   },
   "file_extension": ".py",
   "mimetype": "text/x-python",
   "name": "python",
   "nbconvert_exporter": "python",
   "pygments_lexer": "ipython3",
   "version": "3.10.10"
  }
 },
 "nbformat": 4,
 "nbformat_minor": 2
}
